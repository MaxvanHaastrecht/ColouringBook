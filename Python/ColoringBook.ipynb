{
 "cells": [
  {
   "cell_type": "code",
   "execution_count": null,
   "metadata": {},
   "outputs": [],
   "source": [
    "import numpy as np\n",
    "import matplotlib.pyplot as plt\n",
    "\n",
    "from skimage import io\n",
    "import skimage.color as color\n",
    "import skimage.segmentation as seg"
   ]
  },
  {
   "cell_type": "code",
   "execution_count": null,
   "metadata": {},
   "outputs": [],
   "source": [
    "# Function to fill image segments with white. The edge size is the pixel width of the edges.\n",
    "def fill_segments_white(image, edge_size):\n",
    "    \n",
    "    # Start by copying the image\n",
    "    image_white = np.copy(image)\n",
    "    \n",
    "    # Calculate image dimensions\n",
    "    x_size = image.shape[0]\n",
    "    y_size = image.shape[1]\n",
    "    \n",
    "    for x_coord in range(x_size):\n",
    "        \n",
    "        # Check if x coordinate is on the edge of the image\n",
    "        if image_edge_coordinate(x_coord, x_size, edge_size):\n",
    "            continue\n",
    "        \n",
    "        for y_coord in range(y_size):\n",
    "            \n",
    "            # Check if the y coordinate is on the edge of the image\n",
    "            if image_edge_coordinate(y_coord, y_size, edge_size):\n",
    "                continue\n",
    "            \n",
    "            # If the pixel is not on the edge of a segment, make it white\n",
    "            if segment_center_coordinate(image, x_coord, y_coord, edge_size):\n",
    "                \n",
    "                image_white[x_coord, y_coord] = (255,255,255)\n",
    "                \n",
    "    return image_white"
   ]
  },
  {
   "cell_type": "code",
   "execution_count": null,
   "metadata": {},
   "outputs": [],
   "source": [
    "# Calculate whether a certain coordinate is on the outer edge of an image\n",
    "def image_edge_coordinate(coord, axis_size, edge_size):\n",
    "    \n",
    "    if coord <= edge_size:\n",
    "        \n",
    "        return True\n",
    "    \n",
    "    elif coord >= axis_size - edge_size - 1:\n",
    "        \n",
    "        return True\n",
    "    \n",
    "    else:\n",
    "        \n",
    "        return False"
   ]
  },
  {
   "cell_type": "code",
   "execution_count": null,
   "metadata": {},
   "outputs": [],
   "source": [
    "# Calculate whether a pixel is in the center of a colour segment\n",
    "def segment_center_coordinate(image, x_coord, y_coord, edge_size):\n",
    "    \n",
    "    # Retrieve the color of the pixel\n",
    "    pixel_color = image[x_coord, y_coord]\n",
    "    \n",
    "    # Retrieve the surrounding colors\n",
    "    color_left = image[x_coord - edge_size, y_coord]\n",
    "    color_right = image[x_coord + edge_size, y_coord]\n",
    "    color_down = image[x_coord, y_coord - edge_size]\n",
    "    color_up = image[x_coord, y_coord + edge_size]\n",
    "    \n",
    "    # If all surrounding pixels are of the same color, return true\n",
    "    if (np.array_equal(pixel_color,color_left) and np.array_equal(pixel_color,color_right)\n",
    "        and np.array_equal(pixel_color,color_down) and np.array_equal(pixel_color,color_up)):\n",
    "        return True\n",
    "    else:\n",
    "        return False"
   ]
  },
  {
   "cell_type": "code",
   "execution_count": null,
   "metadata": {},
   "outputs": [],
   "source": [
    "# Read the image you want to process\n",
    "image = io.imread('image.png')\n",
    "\n",
    "# Show the image\n",
    "plt.axis('off')\n",
    "plt.imshow(image)"
   ]
  },
  {
   "cell_type": "code",
   "execution_count": null,
   "metadata": {},
   "outputs": [],
   "source": [
    "# Use simple linear iterative clustering (type of k-means) to construct segmented image\n",
    "image_slic_result = seg.slic(image, n_segments = 100,\n",
    "                             compactness = 40.0, max_iter = 30, start_label = 1)\n",
    "\n",
    "# Take the average color of the regions\n",
    "image_avg = color.label2rgb(image_slic_result, image, kind='avg', bg_label = 0)\n",
    "\n",
    "# Display the image\n",
    "plt.axis('off')\n",
    "plt.imshow(image_avg)"
   ]
  },
  {
   "cell_type": "code",
   "execution_count": null,
   "metadata": {},
   "outputs": [],
   "source": [
    "# Make the inner part of each image segment white\n",
    "edge_width_in_pixels = 10\n",
    "color_book_image = fill_segments_white(image_avg, edge_width_in_pixels)\n",
    "\n",
    "# Save the image\n",
    "io.imsave('colorbook.png', color_book_image)\n",
    "\n",
    "# Display the image\n",
    "plt.axis('off')\n",
    "plt.imshow(color_book_image)"
   ]
  }
 ],
 "metadata": {
  "kernelspec": {
   "display_name": "Python 3 (ipykernel)",
   "language": "python",
   "name": "python3"
  },
  "language_info": {
   "codemirror_mode": {
    "name": "ipython",
    "version": 3
   },
   "file_extension": ".py",
   "mimetype": "text/x-python",
   "name": "python",
   "nbconvert_exporter": "python",
   "pygments_lexer": "ipython3",
   "version": "3.7.11"
  }
 },
 "nbformat": 4,
 "nbformat_minor": 2
}
